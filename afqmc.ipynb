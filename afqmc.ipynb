{
 "cells": [
  {
   "attachments": {},
   "cell_type": "markdown",
   "metadata": {},
   "source": [
    "# Quantum Enhanced Auxiliary Field Quantum Monte Carlo\n",
    "\n",
    "This work was done in collaboration with the Next Generation Computing team at [BASF](https://www.basf.com/global/en.html).\n",
    "\n",
    "In this tutorial we implement a quantum-classical hybrid workflow for computing the ground state energies of a strongly interacting molecular system. The algorithm consists of two parts:\n",
    "\n",
    "\n",
    "1. A variational quantum eigensolver that uses the quantum-number-preserving ansatz proposed by [Anselmetti et al. (2021)](https://doi.org/10.1088/1367-2630/ac2cb3) to generate a quantum trial wave function $|\\Psi_T\\rangle$ using CUDA Quantum.\n",
    "\n",
    "2. An Auxiliary-Field Quantum Monte Carlo simulation that realizes a classical imaginary time evolution and collects the ground state energy estimates.\n"
   ]
  },
  {
   "cell_type": "code",
   "execution_count": 1,
   "metadata": {},
   "outputs": [],
   "source": [
    "# # Package installs\n",
    "# !pip install numba==0.60.0 -q\n",
    "# !pip install h5py==3.11.0 matplotlib==3.9.2 numpy~=1.24.4 openfermion==1.6.1 pyscf~=2.5.0 scipy~=1.14.1 pandas~=2.2.2 -q\n",
    "# !pip install git+https://github.com/JoonhoLee-Group/ipie.git@a7235c4ee5c64314d4b00e0d953804fa9b0df1c3 -q"
   ]
  },
  {
   "cell_type": "code",
   "execution_count": 2,
   "metadata": {},
   "outputs": [],
   "source": [
    "# #For GPU acceleration of ipie: \n",
    "# 1. install cuda toolkit: sudo -S apt-get install -y cuda-toolkit-12.4, \n",
    "# 2. run: unset CUDA_HOME and unset CUDA_PATH\n",
    "# 4. uncomment lines below but ensure they stay above other ipie imports\n",
    "\n",
    "# from ipie.config import config\n",
    "# config.update_option(\"use_gpu\", True)\n",
    "\n",
    "from ipie.qmc.afqmc import AFQMC\n",
    "from ipie.analysis.extraction import extract_observable\n",
    "\n",
    "import numpy as np\n",
    "np.random.seed(1)\n",
    "\n",
    "from src.utils_ipie import get_molecular_hamiltonian\n",
    "from src.utils_ipie import get_afqmc_data\n",
    "from src.vqe_cudaq_qnp import VQE\n",
    "\n",
    "import matplotlib.pyplot as plt\n",
    "\n",
    "import cudaq \n",
    "cudaq.set_target(\"nvidia\")"
   ]
  },
  {
   "attachments": {},
   "cell_type": "markdown",
   "metadata": {},
   "source": [
    "We start by defining the structure of the molecule, the basis set, and its spin. We build the molecule object with PySCF and run a preliminary Hartree-Fock computation. Here we choose two examples: \n",
    "\n",
    "1. ozone that plays a crucial role in atmospheric chemistry and environmental science and represents a challenge for single reference electronic structure methods. \n",
    "\n",
    "2. a [chelating agent](https://doi.org/10.1021/acs.jctc.3c01375) representing a relevant class of substances industrially produced at large scales. Their use ranges, among the others, from water softeners in cleaning applications, modulators of redox behaviour in oxidative bleaching, scale suppressants, soil remediation and ligands for catalysts. In particular we focus here in a Fe(III)-NTA complex whose structure is given in the file imported below. We can choose two active spaces of 10 and 24 qubits.\n",
    "This simulation will require more computational resources.\n",
    "\n",
    "\n"
   ]
  },
  {
   "cell_type": "code",
   "execution_count": 3,
   "metadata": {},
   "outputs": [],
   "source": [
    "system = 'o3' \n",
    "# system = '10q' \n",
    "# system = '24q' \n",
    "\n",
    "if system == 'o3':\n",
    "    \n",
    "    num_active_orbitals = 6\n",
    "    num_active_electrons = 8\n",
    "    spin = 0\n",
    "    chkptfile_rohf = \"chkfiles/scf_o3.chk\"\n",
    "    chkptfile_cas = \"chkfiles/o3/mcscf_o3.chk\"\n",
    "    num_vqe_layers = 10\n",
    "    \n",
    "elif system == '10q':\n",
    "\n",
    "    num_active_orbitals = 5\n",
    "    num_active_electrons = 5\n",
    "    spin = 1\n",
    "    chkptfile_rohf = \"chkfiles/scf_fenta_sd_converged.chk\"\n",
    "    chkptfile_cas = \"chkfiles/10q/mcscf_fenta_converged_10q.chk\"\n",
    "    num_vqe_layers = 10\n",
    "\n",
    "elif system == '24q':\n",
    "    \n",
    "    num_active_orbitals = 12\n",
    "    num_active_electrons = 9\n",
    "    spin = 1\n",
    "    chkptfile_rohf = \"chkfiles/scf_fenta_sd_converged.chk\"\n",
    "    chkptfile_cas = \"chkfiles/24q/mcscf_fenta_converged_24q.chk\"\n",
    "    num_vqe_layers = 10\n",
    "    \n",
    "n_qubits = 2 * num_active_orbitals"
   ]
  },
  {
   "attachments": {},
   "cell_type": "markdown",
   "metadata": {},
   "source": [
    "### Hamiltonian preparation for VQE\n",
    "\n",
    "Since this molecule contains of around 600 orbitals (which would correspond to 1200 qubits) and 143 total electrons, it is impossible to perform a full VQE with full statevector simulation. Therefore, we need to identify an active space with fewer orbitals and electrons that contribute to the strongly interacting part of the whole molecule. We then run a post Hartree-Fock computation with the PySCF's built-in CASCI method in order to obtain the one-body ($t_{pq}$) and two-body \n",
    "($V_{prqs}$) integrals that define the molecular Hamiltonian in the active space:\n",
    "\n",
    "$$ H= \\sum_{pq}t_{pq}\\hat{a}_{p}^\\dagger \\hat {a}_{q}+\\sum_{pqrs}  V_{prqs}\\hat a_{p}^\\dagger \\hat a_{q}^\\dagger \\hat a_{s}\\hat a_{r} \\tag{1}$$\n"
   ]
  },
  {
   "cell_type": "code",
   "execution_count": 4,
   "metadata": {},
   "outputs": [
    {
     "name": "stdout",
     "output_type": "stream",
     "text": [
      "# Start Hartree-Fock computation\n",
      "# hcore.shape 165\n",
      "# Start CAS computation\n",
      "# Energy CAS -225.3062167196733\n"
     ]
    }
   ],
   "source": [
    "# Get the molecular Hamiltonian and molecular data from pyscf\n",
    "data_hamiltonian = get_molecular_hamiltonian(chkptfile_rohf=chkptfile_rohf,\n",
    "                                             chkptfile_cas=chkptfile_cas,\n",
    "                                             num_active_electrons=num_active_electrons,\n",
    "                                             num_active_orbitals=num_active_orbitals,\n",
    "                                             create_cudaq_ham=True,\n",
    "                                             )\n",
    "\n",
    "hamiltonian = data_hamiltonian[\"hamiltonian\"]\n",
    "pyscf_data = data_hamiltonian[\"scf_data\"]"
   ]
  },
  {
   "cell_type": "markdown",
   "metadata": {},
   "source": [
    "### Run VQE with CUDA-Q\n"
   ]
  },
  {
   "attachments": {},
   "cell_type": "markdown",
   "metadata": {},
   "source": [
    "We can now execute the VQE algorithm using the quantum number preserving ansatz. At the end of the VQE, we store the final statevector that will be used in the classical AFQMC computation as an initial guess.\n"
   ]
  },
  {
   "cell_type": "code",
   "execution_count": null,
   "metadata": {},
   "outputs": [
    {
     "name": "stdout",
     "output_type": "stream",
     "text": [
      "# Set target nvidia with options mgpu\n",
      "# num gpus= 1\n",
      "# Initial energy:  -224.0393489732999\n",
      "# Start VQE minimization\n"
     ]
    }
   ],
   "source": [
    "# Define optimization methods for VQE\n",
    "optimizer_type = 'COBYLA'\n",
    "\n",
    "# Define options for the VQE algorithm\n",
    "options = {'n_vqe_layers': num_vqe_layers,\n",
    "           'maxiter': 750,\n",
    "           'energy_core': pyscf_data[\"energy_core_cudaq_ham\"],\n",
    "           'return_final_state_vec': True,\n",
    "           'optimizer': optimizer_type,\n",
    "           'target': 'nvidia'}\n",
    "\n",
    "\n",
    "# Initialize the VQE algorithm\n",
    "vqe = VQE(n_qubits=n_qubits,\n",
    "          num_active_electrons=num_active_electrons,\n",
    "          spin=spin,\n",
    "          options=options)\n",
    "\n",
    "# Set initial parameters for the VQE algorithm\n",
    "vqe.options['initial_parameters'] = np.random.rand(vqe.num_params)\n",
    "\n",
    "# Execute the VQE algorithm\n",
    "result = vqe.execute(hamiltonian)\n",
    "\n",
    "\n",
    "# Extract results from the VQE execution\n",
    "optimized_energy = result['energy_optimized']\n",
    "vqe_energies = result[\"callback_energies\"]\n",
    "final_state_vector = result[\"state_vec\"]\n",
    "best_parameters = result[\"best_parameters\"]"
   ]
  },
  {
   "attachments": {},
   "cell_type": "markdown",
   "metadata": {},
   "source": [
    "### Auxiliary Field Quantum Monte Carlo (AFQMC)\n"
   ]
  },
  {
   "attachments": {},
   "cell_type": "markdown",
   "metadata": {},
   "source": [
    "AFQMC is a numerical method for computing relevant properties of strongly interacting molecules. AFQMC is a type of Quantum Monte Carlo method that combines the use of random walks with an auxiliary field to simulate the imaginary-time evolution of a quantum system and drive it to the lowest energy state. This method can provide accurate results for ground-state properties of a wide range of physical systems, including atoms, molecules, and solids. Here we summarize the main features of AFQMC while a detailed introduction can be found [here](https://www.cond-mat.de/events/correl13/manuscripts/zhang.pdf).\n"
   ]
  },
  {
   "attachments": {},
   "cell_type": "markdown",
   "metadata": {},
   "source": [
    "We consider the electronic Hamiltonian in the second quantization\n",
    "\\begin{equation}\n",
    "H = {H}_1 + {H}_2 \n",
    "=\\sum_{pq} h_{pq} {a}_{p}^{\\dagger} {a}_{q} + \\frac{1}{2} \\sum_{pqrs} v_{pqrs}{a}_{p}^{\\dagger} {a}_r {a}^{\\dagger}_{q} {a}_s \\tag{2}\n",
    "\\end{equation}\n",
    "where ${a}_{p}^{\\dagger}$ and ${a}_{q}$ are fermionic creation and annihilation operators of orbitals $p$ and $q$, respectively. The terms $h_{pq} $ and \n",
    "$v_{pqrs}$ are the matrix elements of the one-body, $H_1$, and two-body, $H_2$, interactions of $H$, respectively. Here, we omit the spin indices for simplicity.\n",
    "\n",
    "AFQMC realizes an imaginary time propagation of an initial state (chosen as a Slater determinant) $\\ket{\\Psi_{I}}$ towards the ground state $\\ket{\\Psi_0}$ of a given hamiltonian, $H$, with\n",
    "\\begin{equation}\n",
    "\\ket{\\Psi_0} \\sim\\lim_{n \\to \\infty} \\left[ e^{-\\Delta\\tau H  }  \\right]^{n} \\ket{\\Psi_{I}}\n",
    "\\tag{3}\n",
    "\\end{equation} \n",
    "where $\\Delta\\tau$ is the imaginary time step.\n",
    "\n",
    "AFQMC relies on decomposing the two-body interactions $H_2$ in terms of sum of squares of one-body operators ${v}_\\gamma$ such that the Hamiltonian ${H}$ becomes\n",
    "\\begin{equation}\n",
    "H = v_0 - \\frac{1}{2}\\sum_{\\gamma=1}^{N_\\gamma} {v}_\\gamma^2\n",
    "\\tag{4}\n",
    "\\end{equation}\n",
    "with ${v}_0 = {H}_1 $ and $\n",
    "{v}_\\gamma = i \\sum_{pq} L^{\\gamma}_{pq} {a}_{p}^{\\dagger}{a}_{q}.\n",
    "$\n",
    "The $N_\\gamma$ matrices $L^{\\gamma}_{pq}$ are called Cholesky vectors as they are  obtained via a Cholesky decomposition of the two-body matrix elements \n",
    "$v_{pqrs}$ via $v_{pqrs} = \\sum_{\\gamma=1}^{N_\\gamma} L^{\\gamma}_{pr} L^{\\gamma}_{qs}$.\n",
    "\n",
    "The imaginary time propagation evolves an ensemble of walkers $\\{\\phi^{(n)}\\}$ (that are Slater determinants) and allows one to access observables of the system. For example, the local energy\n",
    "\\begin{equation}\n",
    "\\mathcal{E}_{\\text{loc}}(\\phi^{(n)}) = \\frac{\\bra{\\Psi_\\mathrm{T}}H\\ket{\\phi^{(n)}}}{\\braket{\\Psi_\\mathrm{T}| \\phi^{(n)}}}\n",
    "\\tag{5}\n",
    "\\end{equation}\n",
    "defined as the mixed expectation value of the Hamiltonian with the trial wave function $\\ket{\\Psi_\\mathrm{T}}$.\n",
    "\n",
    "\n",
    "The trial wavefunction can be in general a single or a multi-Slater determinant coming from VQE for example. This might help in achieving more accurate ground state energy estimates.\n"
   ]
  },
  {
   "attachments": {},
   "cell_type": "markdown",
   "metadata": {},
   "source": [
    "\n",
    "The implementation of AFQMC we use here is from [ipie](https://github.com/JoonhoLee-Group/ipie) that supports both CPUs and GPUs and requires the following steps:\n",
    "\n",
    "\n",
    "1. Preparation of the molecular Hamiltonian by performing the Cholesky decomposition\n",
    "\n",
    "2. Preparation of the trial state from the VQE wavefunction\n",
    "\n",
    "3. Executing AFQMC\n"
   ]
  },
  {
   "cell_type": "markdown",
   "metadata": {},
   "source": [
    "### Preparation of the molecular Hamiltonian and of the trial wave function\n"
   ]
  },
  {
   "cell_type": "code",
   "execution_count": null,
   "metadata": {},
   "outputs": [],
   "source": [
    "# Get AFQMC data (hamiltonian and trial wave function) in ipie format\n",
    "# using the molecular data from pyscf and the final state vector from VQE\n",
    "afqmc_hamiltonian, trial_wavefunction = get_afqmc_data(pyscf_data, final_state_vector)"
   ]
  },
  {
   "attachments": {},
   "cell_type": "markdown",
   "metadata": {},
   "source": [
    "### Setup of the AFQMC parameters\n"
   ]
  },
  {
   "cell_type": "markdown",
   "metadata": {},
   "source": [
    "Here we can choose the input options like the timestep $\\Delta\\tau$, the total number of walkers `num_walkers` and the total number of AFQMC iterations `num_blocks`.\n"
   ]
  },
  {
   "cell_type": "code",
   "execution_count": null,
   "metadata": {},
   "outputs": [],
   "source": [
    "# Initialize AFQMC\n",
    "afqmc_msd = AFQMC.build(\n",
    "    pyscf_data[\"mol\"].nelec,\n",
    "    afqmc_hamiltonian,\n",
    "    trial_wavefunction,\n",
    "    num_walkers = 200,\n",
    "    num_steps_per_block = 10,\n",
    "    num_blocks = 100,\n",
    "    timestep = 0.005,\n",
    "    stabilize_freq = 5,\n",
    "    seed=1,\n",
    "    pop_control_freq = 5,\n",
    "    verbose=False)\n",
    "\n",
    "\n",
    "# Run the AFQMC simulation and save data to .h5 file\n",
    "afqmc_msd.run(estimator_filename='afqmc_data_' +system+ '.h5')\n",
    "\n",
    "afqmc_msd.finalise(verbose=False)\n",
    "\n",
    "# Extract and plot results\n",
    "qmc_data = extract_observable(afqmc_msd.estimators.filename, \"energy\")\n"
   ]
  },
  {
   "cell_type": "code",
   "execution_count": null,
   "metadata": {},
   "outputs": [],
   "source": [
    "vqe_y = vqe_energies\n",
    "vqe_x = list(range(len(vqe_y)))\n",
    "plt.plot(vqe_x, vqe_y, label=\"VQE\")\n",
    "\n",
    "afqmc_y = list(qmc_data[\"ETotal\"])\n",
    "afqmc_x = [i + vqe_x[-1] for i in list(range(len(afqmc_y)))]\n",
    "plt.plot(afqmc_x, afqmc_y, label=\"AFQMC\")\n",
    "\n",
    "plt.xlabel(\"Optimization steps\")\n",
    "plt.ylabel(\"Energy [Ha]\")\n",
    "plt.legend()\n"
   ]
  },
  {
   "cell_type": "markdown",
   "metadata": {},
   "source": [
    "If you were to pick `system == 10q` or `24q`, representing the two active spaces of FeNTA, it would produce the following plots: \n",
    "\n",
    "![plot1](10+24q.png)\n"
   ]
  },
  {
   "cell_type": "code",
   "execution_count": null,
   "metadata": {},
   "outputs": [],
   "source": [
    "print(cudaq.__version__)\n"
   ]
  }
 ],
 "metadata": {
  "kernelspec": {
   "display_name": "Python 3",
   "language": "python",
   "name": "python3"
  },
  "language_info": {
   "codemirror_mode": {
    "name": "ipython",
    "version": 3
   },
   "file_extension": ".py",
   "mimetype": "text/x-python",
   "name": "python",
   "nbconvert_exporter": "python",
   "pygments_lexer": "ipython3",
   "version": "3.10.12"
  }
 },
 "nbformat": 4,
 "nbformat_minor": 2
}
